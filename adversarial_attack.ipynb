{
 "cells": [
  {
   "cell_type": "code",
   "execution_count": 21,
   "metadata": {},
   "outputs": [],
   "source": [
    "import os\n",
    "import tensorflow as tf\n",
    "import numpy as np\n",
    "import cv2\n",
    "import matplotlib.pyplot as plt"
   ]
  },
  {
   "cell_type": "markdown",
   "metadata": {},
   "source": [
    "### Define classifier and read in weights"
   ]
  },
  {
   "cell_type": "code",
   "execution_count": 22,
   "metadata": {},
   "outputs": [],
   "source": [
    "data = None\n",
    "weights_path = \"./model/vgg16-cifar.npy\"\n",
    "\n",
    "\n",
    "class Model():\n",
    "    def __init__(self, vgg16_npy_path=None):\n",
    "        global data\n",
    "\n",
    "        if vgg16_npy_path is None:\n",
    "            path = weights_path\n",
    "\n",
    "            if os.path.exists(path):\n",
    "                vgg16_npy_path = path\n",
    "\n",
    "            else:\n",
    "                print(\"VGG16 weights were not found in the project directory!\")\n",
    "                exit(0)\n",
    "\n",
    "        if data is None:\n",
    "            data = np.load(vgg16_npy_path, encoding='latin1')\n",
    "            self.data_dict = data.item()\n",
    "            print(\"VGG16 weights loaded\")\n",
    "\n",
    "        else:\n",
    "            self.data_dict = data.item()\n",
    "\n",
    "    def build(self, inp):\n",
    "\n",
    "        self.conv1_1 = self.conv_layer(inp, \"conv1_1\")\n",
    "        self.drop1_1 = self.drop_layer(self.conv1_1, 0.3)\n",
    "        self.conv1_2 = self.conv_layer(self.drop1_1, \"conv1_2\")\n",
    "        self.pool1 = self.max_pool(self.conv1_2, 'pool1')\n",
    "\n",
    "        self.conv2_1 = self.conv_layer(self.pool1, \"conv2_1\")\n",
    "        self.drop2_1 = self.drop_layer(self.conv2_1, 0.4)\n",
    "        self.conv2_2 = self.conv_layer(self.drop2_1, \"conv2_2\")\n",
    "        self.pool2 = self.max_pool(self.conv2_2, 'pool2')\n",
    "\n",
    "        self.conv3_1 = self.conv_layer(self.pool2, \"conv3_1\")\n",
    "        self.drop3_1 = self.drop_layer(self.conv3_1, 0.4)\n",
    "        self.conv3_2 = self.conv_layer(self.drop3_1, \"conv3_2\")\n",
    "        self.drop3_2 = self.drop_layer(self.conv3_2, 0.4)\n",
    "        self.conv3_3 = self.conv_layer(self.drop3_2, \"conv3_3\")\n",
    "\n",
    "        self.pool3 = self.max_pool(self.conv3_3, 'pool3')\n",
    "\n",
    "        self.conv4_1 = self.conv_layer(self.pool3, \"conv4_1\")\n",
    "        self.drop4_1 = self.drop_layer(self.conv4_1, 0.4)\n",
    "        self.conv4_2 = self.conv_layer(self.drop4_1, \"conv4_2\")\n",
    "        self.drop4_2 = self.drop_layer(self.conv4_2, 0.4)\n",
    "        self.conv4_3 = self.conv_layer(self.drop4_2, \"conv4_3\")\n",
    "\n",
    "        self.pool4 = self.max_pool(self.conv4_3, 'pool4')\n",
    "\n",
    "        self.conv5_1 = self.conv_layer(self.pool4, \"conv5_1\")\n",
    "        self.drop5_1 = self.drop_layer(self.conv5_1, 0.4)\n",
    "        self.conv5_2 = self.conv_layer(self.drop5_1, \"conv5_2\")\n",
    "        self.drop5_2 = self.drop_layer(self.conv5_2, 0.4)\n",
    "        self.conv5_3 = self.conv_layer(self.drop5_2, \"conv5_3\")\n",
    "        self.pool5 = self.max_pool(self.conv5_3, \"pool5\")\n",
    "\n",
    "        self.drop6 = self.drop_layer(self.pool5,0.5)\n",
    "        self.fc1 = self.fc_layer(self.drop6, 'fc1', ac = True, bn = True)\n",
    "        self.drop1 = self.drop_layer(self.fc1, 0.5)\n",
    "\n",
    "        logits = self.fc_layer(self.drop1, 'fc2')\n",
    "\n",
    "        return logits\n",
    "\n",
    "    def avg_pool(self, bottom, name):\n",
    "        return tf.nn.avg_pool(bottom,\n",
    "            ksize=[1, 2, 2, 1], strides=[1, 2, 2, 1], padding='SAME', name=name)\n",
    "\n",
    "    def max_pool(self, bottom, name):\n",
    "        return tf.nn.max_pool(bottom,\n",
    "            ksize=[1, 2, 2, 1], strides=[1, 2, 2, 1], padding='SAME', name=name)\n",
    "\n",
    "    def conv_layer(self, bottom, name, stride = 1):\n",
    "        with tf.variable_scope(name):\n",
    "            filt = self.get_conv_filter(name)\n",
    "\n",
    "            conv = tf.nn.conv2d(bottom, filt, [1, stride, stride, 1], padding='SAME')\n",
    "            conv_biases = self.get_bias(name)\n",
    "            bias = tf.nn.bias_add(conv, conv_biases)\n",
    "            mean = self.get_mean(name)\n",
    "            variance = self.get_variance(name)\n",
    "            offset = self.get_beta(name)\n",
    "            scale = self.get_gamma(name)\n",
    "            relu = tf.nn.relu(bias)\n",
    "            norm = tf.nn.batch_normalization(relu, mean, variance, offset, scale, 1e-20 )\n",
    "            return norm\n",
    "\n",
    "    def drop_layer(self, bottom, rate):\n",
    "        return tf.nn.dropout(bottom, rate)\n",
    "\n",
    "    def fc_layer(self, bottom, name, ac = False, bn = False):\n",
    "        with tf.variable_scope(name):\n",
    "            shape = bottom.get_shape().as_list()\n",
    "            dim = 1\n",
    "            for d in shape[1:]:\n",
    "                dim *= d\n",
    "            x = tf.reshape(bottom, [-1, dim])\n",
    "\n",
    "            weights = self.get_fc_weight(name)\n",
    "            biases = self.get_bias(name)\n",
    "\n",
    "            # Fully connected layer. Note that the '+' operation automatically\n",
    "            # broadcasts the biases.\n",
    "            fc = tf.nn.bias_add(tf.matmul(x, weights), biases)\n",
    "            if (ac):\n",
    "                fc = tf.nn.relu(fc)\n",
    "            if (bn):\n",
    "                mean = self.get_mean(name)\n",
    "                variance = self.get_variance(name)\n",
    "                offset = self.get_beta(name)\n",
    "                scale = self.get_gamma(name)\n",
    "                fc = tf.nn.batch_normalization(fc, mean, variance, offset, scale, 1e-20 )\n",
    "            return fc\n",
    "\n",
    "    def get_mean(self, name):\n",
    "        return tf.constant(self.data_dict[name][4], name = \"mean\")\n",
    "\n",
    "    def get_variance(self, name):\n",
    "        return tf.constant(self.data_dict[name][5], name = \"variance\")\n",
    "\n",
    "    def get_gamma(self, name):\n",
    "        return tf.constant(self.data_dict[name][2], name = \"gamma\")\n",
    "\n",
    "    def get_beta(self, name):\n",
    "        return tf.constant(self.data_dict[name][3], name = \"beta\")\n",
    "\n",
    "    def get_conv_filter(self, name):\n",
    "        return tf.constant(self.data_dict[name][0], name=\"filter\")\n",
    "\n",
    "    def get_bias(self, name):\n",
    "        return tf.constant(self.data_dict[name][1], name=\"biases\")\n",
    "\n",
    "    def get_fc_weight(self, name):\n",
    "        return tf.constant(self.data_dict[name][0], name=\"weights\")\n",
    "\n"
   ]
  },
  {
   "cell_type": "code",
   "execution_count": 23,
   "metadata": {},
   "outputs": [
    {
     "name": "stdout",
     "output_type": "stream",
     "text": [
      "VGG16 weights loaded\n"
     ]
    }
   ],
   "source": [
    "'''normalization paramter'''\n",
    "mean = 120.707\n",
    "std = 64.15\n",
    "\n",
    "'''read in image'''\n",
    "img = cv2.imread('./dog.png').reshape(1, 32, 32, 3)\n",
    "img_norm = (img - mean)/(std + 1e-7)\n",
    "label = np.array(5).reshape(1,)\n",
    "\n",
    "'''define placeholder for image and ground truth'''\n",
    "x = tf.placeholder(tf.float32, shape = (None,) + (32,32) + (3, ), name = 'data')\n",
    "gt = tf.placeholder(tf.int32, shape = (None, ), name='gt')\n",
    "\n",
    "'''define evaluation graph'''\n",
    "model = Model()\n",
    "logits_src_img = model.build(x)\n",
    "preds_src_img = tf.argmax(tf.nn.softmax(logits_src_img), axis = 1)\n",
    "\n",
    "'''define computation graph at training phase'''\n",
    "pre_noise = tf.Variable(tf.zeros((1, 32, 32, 3), dtype=tf.float32 ))\n",
    "noise = 10 * tf.tanh(pre_noise)\n",
    "x_noise = x + noise\n",
    "\n",
    "'''clip and round generated examples'''\n",
    "x_clip = tf.clip_by_value(x_noise, 0, 255)\n",
    "x_round = x_clip + tf.stop_gradient(x_clip // 1 - x_clip)\n",
    "x_norm = (x_round - mean )/(std + 1e-7)\n",
    "\n",
    "'''compute crossentropy loss and accuracy'''\n",
    "logits = model.build(x_norm)\n",
    "preds = tf.nn.softmax(logits)\n",
    "gt_one_hot = tf.one_hot(gt, 10)\n",
    "loss = tf.losses.softmax_cross_entropy(gt_one_hot, logits) * (-1)\n",
    "acc = tf.reduce_mean(tf.cast(tf.equal(tf.cast(tf.argmax(preds, 1), dtype=tf.int32),\n",
    "                             tf.cast(tf.argmax(gt_one_hot, 1), dtype = tf.int32)), tf.float32))\n",
    "\n",
    "placeholders = {\n",
    "        'data': x,\n",
    "        'label':label,\n",
    "        'gt': gt,\n",
    "\n",
    "    }"
   ]
  },
  {
   "cell_type": "code",
   "execution_count": 24,
   "metadata": {},
   "outputs": [
    {
     "name": "stdout",
     "output_type": "stream",
     "text": [
      "The prediction of the source image is [5]\n",
      "e:20/500 loss: -1.607 acc: 0.000000\n",
      "e:40/500 loss: -2.927 acc: 0.000000\n",
      "e:60/500 loss: -2.234 acc: 0.000000\n",
      "e:80/500 loss: -9.705 acc: 0.000000\n",
      "e:100/500 loss: -3.596 acc: 0.000000\n",
      "e:120/500 loss: -3.331 acc: 0.000000\n",
      "e:140/500 loss: -7.691 acc: 0.000000\n",
      "e:160/500 loss: -3.362 acc: 0.000000\n",
      "e:180/500 loss: -7.494 acc: 0.000000\n",
      "e:200/500 loss: -5.571 acc: 0.000000\n",
      "e:220/500 loss: -3.972 acc: 0.000000\n",
      "e:240/500 loss: -7.294 acc: 0.000000\n",
      "e:260/500 loss: -4.638 acc: 0.000000\n",
      "e:280/500 loss: -8.775 acc: 0.000000\n",
      "e:300/500 loss: -8.764 acc: 0.000000\n",
      "e:320/500 loss: -12.099 acc: 0.000000\n",
      "e:340/500 loss: -11.535 acc: 0.000000\n",
      "e:360/500 loss: -9.669 acc: 0.000000\n",
      "e:380/500 loss: -11.080 acc: 0.000000\n",
      "e:400/500 loss: -10.417 acc: 0.000000\n",
      "e:420/500 loss: -9.216 acc: 0.000000\n",
      "e:440/500 loss: -10.755 acc: 0.000000\n",
      "e:460/500 loss: -5.887 acc: 0.000000\n",
      "e:480/500 loss: -9.993 acc: 0.000000\n",
      "The prediction of the adversarial example is [2]\n"
     ]
    }
   ],
   "source": [
    "lr = 1e-2\n",
    "opt = tf.train.AdamOptimizer(lr)\n",
    "grads = opt.compute_gradients(loss, [pre_noise])\n",
    "train = opt.apply_gradients(grads)  \n",
    "\n",
    "tf.set_random_seed(12345) # ensure consistent results\n",
    "global_cnt = 0\n",
    "epoch_start = 0\n",
    "with tf.Session() as sess:\n",
    "      \n",
    "    sess.run(tf.global_variables_initializer()) # init all variables\n",
    "    print('The prediction of the source image is {}'.format(preds_src_img.eval(feed_dict ={placeholders['data']:img_norm})))\n",
    "    for epoch in range(epoch_start + 1, 500):\n",
    "        global_cnt += 1\n",
    "        feed_dict = {\n",
    "            placeholders['data']: img,\n",
    "            placeholders['gt']: label,\n",
    "        }\n",
    "        _, accuracy, loss_batch, adv_examples = sess.run([train, acc, loss, x_round],\n",
    "                                                                       feed_dict=feed_dict)\n",
    "\n",
    "        if global_cnt % 20 == 0:\n",
    "            print(\n",
    "                \"e:{}/{}\".format(global_cnt, 500),\n",
    "                'loss: {:.3f}'.format(loss_batch),\n",
    "                'acc: {:3f}'.format(accuracy),\n",
    "                    )\n",
    "\n",
    "    print('The prediction of the adversarial example is {}'.format(preds_src_img.eval(feed_dict ={placeholders['data']:(adv_examples-mean)/(1e-7+std)})))"
   ]
  },
  {
   "cell_type": "code",
   "execution_count": 14,
   "metadata": {},
   "outputs": [
    {
     "data": {
      "image/png": "[encoded data removed]",
      "text/plain": [
       "<Figure size 432x288 with 1 Axes>"
      ]
     },
     "metadata": {},
     "output_type": "display_data"
    }
   ],
   "source": [
    "plt.figure()\n",
    "plt.imshow(img[0].astype('uint8'))\n",
    "plt.show()"
   ]
  },
  {
   "cell_type": "code",
   "execution_count": 17,
   "metadata": {},
   "outputs": [
    {
     "data": {
      "image/png": "[encoded data removed]",
      "text/plain": [
       "<Figure size 432x288 with 1 Axes>"
      ]
     },
     "metadata": {},
     "output_type": "display_data"
    }
   ],
   "source": [
    "plt.figure()\n",
    "plt.imshow(adv_examples[0].astype('uint8'))\n",
    "plt.show()"
   ]
  },
  {
   "cell_type": "code",
   "execution_count": 20,
   "metadata": {},
   "outputs": [
    {
     "data": {
      "image/png": "[encoded data removed]",
      "text/plain": [
       "<Figure size 432x288 with 1 Axes>"
      ]
     },
     "metadata": {},
     "output_type": "display_data"
    }
   ],
   "source": [
    "plt.figure()\n",
    "plt.imshow((adv_examples[0]-img[0]).astype('uint8'))\n",
    "plt.show()"
   ]
  },
  {
   "cell_type": "code",
   "execution_count": null,
   "metadata": {},
   "outputs": [],
   "source": []
  }
 ],
 "metadata": {
  "kernelspec": {
   "display_name": "Python 3",
   "language": "python",
   "name": "python3"
  },
  "language_info": {
   "codemirror_mode": {
    "name": "ipython",
    "version": 3
   },
   "file_extension": ".py",
   "mimetype": "text/x-python",
   "name": "python",
   "nbconvert_exporter": "python",
   "pygments_lexer": "ipython3",
   "version": "3.5.2"
  }
 },
 "nbformat": 4,
 "nbformat_minor": 2
}
